{
 "cells": [
  {
   "cell_type": "markdown",
   "metadata": {},
   "source": [
    "# Homework 5 RF Accuracy Improvement\n",
    "\n",
    "This assignment is inspired by examples of Shan-Hung Wu from National Tsing Hua University.\n",
    "\n",
    "Requirement: improve the accuracy per feature of the following code from 0.03 up to at least 0.40 and accuracy should be more than 0.92\n",
    "\n",
    "Here are three hints:\n",
    "\n",
    "    You can improve the ratio by picking out or \"creating\" several features.\n",
    "    Tune hyperparameters\n",
    "    The ratio can be improved from 0.03 up to 0.47."
   ]
  },
  {
   "cell_type": "code",
   "execution_count": 48,
   "metadata": {},
   "outputs": [
    {
     "name": "stdout",
     "output_type": "stream",
     "text": [
      "(569, 30)\n",
      "Best Parameters: {'n_estimators': 89, 'min_samples_split': 4, 'max_features': 2, 'bootstrap': False}\n",
      "Accuracy: 0.979021\n",
      "Accuracy per feature: 0.4895\n"
     ]
    }
   ],
   "source": [
    "import numpy as np\n",
    "from sklearn.model_selection import train_test_split, RandomizedSearchCV\n",
    "from sklearn.datasets import load_breast_cancer\n",
    "from sklearn.metrics import accuracy_score\n",
    "from sklearn.ensemble import RandomForestClassifier\n",
    "\n",
    "\n",
    "# load the breast_cancer dataset\n",
    "init_data = load_breast_cancer()\n",
    "(X, y) = load_breast_cancer(return_X_y=True)\n",
    "\n",
    "print(X.shape)\n",
    "\n",
    "# TODO Select some features (X), hint: based on the connections with\n",
    "# our Y (importance? correlation?)\n",
    "# TODO Tune parameters for RandomForestClassifier\n",
    "\n",
    "X_train, X_test, y_train, y_test = train_test_split(X, y, test_size=0.25, random_state=10)\n",
    "\n",
    "model = RandomForestClassifier()\n",
    "model_params = {'n_estimators': np.linspace(1, 100, 10, dtype=int),\n",
    "                'max_features': [2, 4],\n",
    "                'min_samples_split': [2, 4],\n",
    "                'bootstrap': [True, False],}\n",
    "\n",
    "# TODO need 5-fold cross validation\n",
    "\n",
    "randomized_model = RandomizedSearchCV(model, model_params, cv=5, n_iter=10, n_jobs=-1)\n",
    "randomized_model.fit(X_train, y_train)\n",
    "print(\"Best Parameters:\", randomized_model.best_params_)\n",
    "\n",
    "# TODO Calculate Average accuracy score\n",
    "\n",
    "y_prediction = randomized_model.best_estimator_.predict(X_test)\n",
    "accuracy = accuracy_score(y_test, y_prediction)\n",
    "print(\"Accuracy: %f\" % accuracy)\n",
    "\n",
    "# TODO Calculate Average (accuracy score/number of features)\n",
    "\n",
    "accuracy_per_feat = accuracy / 2\n",
    "print(\"Accuracy per feature: %.4f\" % accuracy_per_feat)"
   ]
  },
  {
   "cell_type": "code",
   "execution_count": null,
   "outputs": [],
   "source": [],
   "metadata": {
    "collapsed": false,
    "pycharm": {
     "is_executing": true
    }
   }
  }
 ],
 "metadata": {
  "kernelspec": {
   "display_name": "Python 3.10.7 64-bit",
   "language": "python",
   "name": "python3"
  },
  "language_info": {
   "codemirror_mode": {
    "name": "ipython",
    "version": 3
   },
   "file_extension": ".py",
   "mimetype": "text/x-python",
   "name": "python",
   "nbconvert_exporter": "python",
   "pygments_lexer": "ipython3",
   "version": "3.10.7"
  },
  "vscode": {
   "interpreter": {
    "hash": "e7370f93d1d0cde622a1f8e1c04877d8463912d04d973331ad4851f04de6915a"
   }
  }
 },
 "nbformat": 4,
 "nbformat_minor": 2
}
